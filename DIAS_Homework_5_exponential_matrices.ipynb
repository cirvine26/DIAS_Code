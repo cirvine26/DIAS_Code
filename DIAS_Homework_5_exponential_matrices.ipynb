{
 "cells": [
  {
   "cell_type": "markdown",
   "metadata": {},
   "source": [
    "# DIAS Homework 5"
   ]
  },
  {
   "cell_type": "markdown",
   "metadata": {},
   "source": [
    "## Exponential of a matrix"
   ]
  },
  {
   "cell_type": "code",
   "execution_count": 6,
   "metadata": {},
   "outputs": [],
   "source": [
    "import numpy as np \n",
    "import matplotlib.pyplot as plt \n",
    "import math\n",
    "from numpy import linalg as LA\n",
    "from tqdm.notebook import tqdm"
   ]
  },
  {
   "cell_type": "code",
   "execution_count": 13,
   "metadata": {},
   "outputs": [],
   "source": [
    "#Function to find exponential using Taylor series to desired terms\n",
    "def taylor_exponential(x, terms):\n",
    "    ex=0\n",
    "    for ii in range(terms):\n",
    "        ex+=(x**ii)/(math.factorial(ii))\n",
    "    return ex\n",
    "\n",
    "#Function to find the 2D rotation matrix for a given theta\n",
    "def rotation_matrix(x):\n",
    "    return np.matrix([[np.cos(x),-np.sin(x)],[np.sin(x),np.cos(x)]])"
   ]
  },
  {
   "cell_type": "markdown",
   "metadata": {},
   "source": [
    "# Pauli Matrices\n",
    "Finding the imaginary exponential of the second Pauli Matrix with multiple prefactors \n",
    "\n",
    "Should have a similar format to the 2D rotation matrix\n",
    "\n",
    "$$\\begin{pmatrix} \\cos{\\alpha} & -\\sin{\\alpha} \\\\ \\sin{\\alpha} & \\cos{\\alpha} \\end{pmatrix}$$"
   ]
  },
  {
   "cell_type": "code",
   "execution_count": 17,
   "metadata": {},
   "outputs": [
    {
     "name": "stdout",
     "output_type": "stream",
     "text": [
      "[[-0.41614684 -0.90929743]\n",
      " [ 0.90929743 -0.41614684]]\n"
     ]
    }
   ],
   "source": [
    "print(rotation_matrix(2))"
   ]
  },
  {
   "cell_type": "code",
   "execution_count": 29,
   "metadata": {},
   "outputs": [
    {
     "name": "stdout",
     "output_type": "stream",
     "text": [
      "For alpha = 0.0 \n",
      " Imaginary exponential of 2nd Pauli matrix is \n",
      " [[1.+0.j 0.+0.j]\n",
      " [0.+0.j 1.+0.j]] \n",
      " and rotation matrix in 2D is \n",
      " [[ 1. -0.]\n",
      " [ 0.  1.]] . \n",
      "\n",
      "For alpha = 0.1111111111111111 \n",
      " Imaginary exponential of 2nd Pauli matrix is \n",
      " [[0.99383351+0.11088263j 0.        +0.j        ]\n",
      " [0.        +0.j         0.99383351-0.11088263j]] \n",
      " and rotation matrix in 2D is \n",
      " [[ 0.99383351 -0.11088263]\n",
      " [ 0.11088263  0.99383351]] . \n",
      "\n",
      "For alpha = 0.2222222222222222 \n",
      " Imaginary exponential of 2nd Pauli matrix is \n",
      " [[0.97541009+0.22039774j 0.        +0.j        ]\n",
      " [0.        +0.j         0.97541009-0.22039774j]] \n",
      " and rotation matrix in 2D is \n",
      " [[ 0.97541009 -0.22039774]\n",
      " [ 0.22039774  0.97541009]] . \n",
      "\n",
      "For alpha = 0.3333333333333333 \n",
      " Imaginary exponential of 2nd Pauli matrix is \n",
      " [[0.94495695+0.3271947j 0.        +0.j       ]\n",
      " [0.        +0.j        0.94495695-0.3271947j]] \n",
      " and rotation matrix in 2D is \n",
      " [[ 0.94495695 -0.3271947 ]\n",
      " [ 0.3271947   0.94495695]] . \n",
      "\n",
      "For alpha = 0.4444444444444444 \n",
      " Imaginary exponential of 2nd Pauli matrix is \n",
      " [[0.90284967+0.42995636j 0.        +0.j        ]\n",
      " [0.        +0.j         0.90284967-0.42995636j]] \n",
      " and rotation matrix in 2D is \n",
      " [[ 0.90284967 -0.42995636]\n",
      " [ 0.42995636  0.90284967]] . \n",
      "\n",
      "For alpha = 0.5555555555555556 \n",
      " Imaginary exponential of 2nd Pauli matrix is \n",
      " [[0.84960756+0.52741539j 0.        +0.j        ]\n",
      " [0.        +0.j         0.84960756-0.52741539j]] \n",
      " and rotation matrix in 2D is \n",
      " [[ 0.84960756 -0.52741539]\n",
      " [ 0.52741539  0.84960756]] . \n",
      "\n",
      "For alpha = 0.6666666666666666 \n",
      " Imaginary exponential of 2nd Pauli matrix is \n",
      " [[0.78588726+0.6183698j 0.        +0.j       ]\n",
      " [0.        +0.j        0.78588726-0.6183698j]] \n",
      " and rotation matrix in 2D is \n",
      " [[ 0.78588726 -0.6183698 ]\n",
      " [ 0.6183698   0.78588726]] . \n",
      "\n",
      "For alpha = 0.7777777777777777 \n",
      " Imaginary exponential of 2nd Pauli matrix is \n",
      " [[0.71247462+0.70169788j 0.        +0.j        ]\n",
      " [0.        +0.j         0.71247462-0.70169788j]] \n",
      " and rotation matrix in 2D is \n",
      " [[ 0.71247462 -0.70169788]\n",
      " [ 0.70169788  0.71247462]] . \n",
      "\n",
      "For alpha = 0.8888888888888888 \n",
      " Imaginary exponential of 2nd Pauli matrix is \n",
      " [[0.63027505+0.77637192j 0.        +0.j        ]\n",
      " [0.        +0.j         0.63027505-0.77637192j]] \n",
      " and rotation matrix in 2D is \n",
      " [[ 0.63027505 -0.77637192]\n",
      " [ 0.77637192  0.63027505]] . \n",
      "\n",
      "For alpha = 1.0 \n",
      " Imaginary exponential of 2nd Pauli matrix is \n",
      " [[0.54030231+0.84147098j 0.        +0.j        ]\n",
      " [0.        +0.j         0.54030231-0.84147098j]] \n",
      " and rotation matrix in 2D is \n",
      " [[ 0.54030231 -0.84147098]\n",
      " [ 0.84147098  0.54030231]] . \n",
      "\n"
     ]
    }
   ],
   "source": [
    "#Pauli 2 matrix\n",
    "pauli2=np.matrix([[1,0],[0,-1]])\n",
    "\n",
    "#Generate multiple alphas\n",
    "alpha=np.linspace(0,1,10)\n",
    "for ii in alpha:\n",
    "    rotation=rotation_matrix(ii)\n",
    "    exponential=taylor_exponential((ii*pauli2)*1j, 15)\n",
    "    print('For alpha =', ii, \n",
    "           '\\n Imaginary exponential of 2nd Pauli matrix is \\n', exponential,\n",
    "         '\\n and rotation matrix in 2D is \\n', rotation, '. \\n')"
   ]
  }
 ],
 "metadata": {
  "kernelspec": {
   "display_name": "Python 3",
   "language": "python",
   "name": "python3"
  },
  "language_info": {
   "codemirror_mode": {
    "name": "ipython",
    "version": 3
   },
   "file_extension": ".py",
   "mimetype": "text/x-python",
   "name": "python",
   "nbconvert_exporter": "python",
   "pygments_lexer": "ipython3",
   "version": "3.7.4"
  }
 },
 "nbformat": 4,
 "nbformat_minor": 2
}
