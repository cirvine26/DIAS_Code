{
  "nbformat": 4,
  "nbformat_minor": 0,
  "metadata": {
    "colab": {
      "name": "Fermionic Hamiltonian of spin chain.ipynb",
      "provenance": [],
      "collapsed_sections": [],
      "authorship_tag": "ABX9TyMGqNSauzLInNyrTMiwEhA2",
      "include_colab_link": true
    },
    "kernelspec": {
      "name": "python3",
      "display_name": "Python 3"
    }
  },
  "cells": [
    {
      "cell_type": "markdown",
      "metadata": {
        "id": "view-in-github",
        "colab_type": "text"
      },
      "source": [
        "<a href=\"https://colab.research.google.com/github/cirvine26/DIAS_Code/blob/master/Fermionic_Hamiltonian_of_spin_chain.ipynb\" target=\"_parent\"><img src=\"https://colab.research.google.com/assets/colab-badge.svg\" alt=\"Open In Colab\"/></a>"
      ]
    },
    {
      "cell_type": "markdown",
      "metadata": {
        "id": "4mu_Q3qH8BC1",
        "colab_type": "text"
      },
      "source": [
        "# Fermionic Representation of the Spin Chain\n"
      ]
    },
    {
      "cell_type": "markdown",
      "metadata": {
        "id": "A03N8ZKi8KDt",
        "colab_type": "text"
      },
      "source": [
        "Attempting to invert the equation;\n",
        "\n",
        "$$ \\hat{\\rho}(0)=\\frac{1}{Z}exp\\left(-\\vec{\\alpha}^{\\dagger}\\underline{A}\\vec{\\alpha}\\right)=\\frac{\\sqrt{1-n^2}}{2Z}exp\\left[\\frac{\\text{arctanh}(n)}{n}\\left(n^z\\hat{a}_1\\hat{a}^{\\dagger}_1 - n^z\\hat{\\alpha}^{\\dagger}_1\\hat{\\alpha}_1+\\left\\{ n^-\\hat{\\alpha}_1\\left( \\hat{\\alpha}_{N+1}-\\hat{\\alpha}^{\\dagger}_{N+1}\\right) + \\text{h.c.} \\right\\}\\right) - \\beta\\hat{H}_{\\mathcal{E}}\\right],$$\n",
        "\n",
        "to gain a form for $\\underline{A}$ proved unfruitful. The $2N \\times 2N$ matrix $\\vec{{\\alpha}} \\vec{{\\alpha}}^{\\dagger}$ was singular. Hence, a unique inverse was impossible. \n",
        "\n",
        "Instead, a form for $\\underline{A}$ must be achieved by comparison of it's form to the quadratic Hamiltonian of the system $\\underline{H}$."
      ]
    },
    {
      "cell_type": "code",
      "metadata": {
        "id": "ZgTVPaRs1xhu",
        "colab_type": "code",
        "colab": {}
      },
      "source": [
        "'''Imports'''\n",
        "import numpy as np \n",
        "np.printoptions(precision=3)\n",
        "import matplotlib.pyplot as plt\n",
        "import tqdm as tqdm\n",
        "import scipy.linalg as LA"
      ],
      "execution_count": null,
      "outputs": []
    },
    {
      "cell_type": "code",
      "metadata": {
        "id": "1sWhzUkkFZ8B",
        "colab_type": "code",
        "colab": {}
      },
      "source": [
        "'''Functions'''\n",
        "#Returns the total matrix hamiltonian of the entire system, including the N+1 ghost particle \n",
        "def total_hamiltonian(N, omega_matrix, lambda_matrix):\n",
        "    #Make the needed empty arrays \n",
        "    H=np.zeros((2*(N+1),2*(N+1)), dtype=complex)\n",
        "    alpha = np.zeros((N+1, N+1), dtype=complex)\n",
        "    beta = np.zeros((N+1, N+1), dtype=complex)\n",
        "    alpha0 = np.zeros((N, N), dtype=complex)\n",
        "    beta0 = np.zeros((N, N), dtype=complex)\n",
        "\n",
        "    #Only 1st omega x and y terms appear in the hamiltonian whereas omega z appears for all qubits \n",
        "    lambdaPlus=lambda_matrix[0,:] + 1j*lambda_matrix[1,:]\n",
        "    lambdaMinus=lambda_matrix[0,:] - 1j*lambda_matrix[1,:]\n",
        "    omegaZ=omega_matrix[2,:]\n",
        "\n",
        "    #Coupling constants \n",
        "    omega1Plus=omega_matrix[0,0] + 1j*omega_matrix[1,0]\n",
        "    omega1Minus=omega_matrix[0,0] - 1j* omega_matrix[1,0]\n",
        "    lambda1Z=lambda_matrix[2,0]\n",
        "\n",
        "    # Pauli Matrices\n",
        "    id = np.identity(2)\n",
        "    sx = np.array([[0, 1], [1, 0]], dtype=complex)\n",
        "    sy = np.array([[0, -1j], [1j, 0]], dtype=complex)\n",
        "    sz = np.array([[1, 0], [0, -1]], dtype=complex)\n",
        "\n",
        "    #Construct diagonal matrices\n",
        "    Om = np.diag(omegaZ)\n",
        "    Lp = np.diag(lambdaPlus)\n",
        "    Lm = np.diag(lambdaMinus)\n",
        "\n",
        "    # Define R which is used to easily move elements to the subdiagonal within a matrix\n",
        "    R = np.zeros((N, N))\n",
        "    for i in range(N-1):\n",
        "     R[i][i+1] = 1\n",
        "\n",
        "    # Make alpha0 and beta0\n",
        "    alpha0 = -2*Om + Lm@R + np.transpose(np.conj(Lm@R))\n",
        "    beta0 = (R.T)@Lp - Lp@R\n",
        "\n",
        "    # Fill alpha\n",
        "    alpha[0:N, 0:N] = alpha0\n",
        "    alpha[0, N] = omega1Plus\n",
        "    alpha[1, N] = lambda1Z.conjugate()\n",
        "    alpha[N, 0] = omega1Minus\n",
        "    alpha[N, 1] = lambda1Z\n",
        "\n",
        "    # Fill beta\n",
        "    beta[0:N, 0:N] = beta0\n",
        "    beta[0, N] = omega1Minus\n",
        "    beta[1, N] = lambda1Z\n",
        "    beta[N, 0] = -omega1Minus\n",
        "    beta[N, 1] = -lambda1Z\n",
        "\n",
        "    # Fill H\n",
        "    H[0:N+1, 0:N+1] = alpha\n",
        "    H[0:N+1, N+1:2*(N+1)] = -beta.conj()\n",
        "    H[N+1:2*(N+1), 0:N+1] = beta\n",
        "    H[N+1:2*(N+1), N+1:2*(N+1)] = -alpha.conj()\n",
        "\n",
        "    #Return the completed hamiltonian \n",
        "    return H\n",
        "\n",
        "#Returns the matrix A from the quadratic formulation of the hamiltonian\n",
        "def covariance_matrix(N, omega_matrix, lambda_matrix, bloch_vector, temperature):\n",
        "    #Make the needed empty arrays \n",
        "    H=np.zeros((2*(N+1),2*(N+1)), dtype=complex)\n",
        "    alpha = np.zeros((N+1, N+1), dtype=complex)\n",
        "    beta = np.zeros((N+1, N+1), dtype=complex)\n",
        "    alpha0 = np.zeros((N, N), dtype=complex)\n",
        "    beta0 = np.zeros((N, N), dtype=complex)\n",
        "    #Extra needed matrices from the hamiltonian case\n",
        "    A = np.zeros((2*(N+1), 2*(N+1)), dtype=complex)\n",
        "    alphaPrime = np.zeros((N+1, N+1), dtype=complex)\n",
        "    betaPrime = np.zeros((N+1, N+1), dtype=complex)\n",
        "    covarianceMatrix=np.zeros((2*(N+1), 2*(N+1)), dtype=complex)\n",
        "\n",
        "    #Only 1st omega x and y terms appear in the hamiltonian whereas omega z appears for all qubits \n",
        "    lambdaPlus=lambda_matrix[0,:] + 1j*lambda_matrix[1,:]\n",
        "    lambdaMinus=lambda_matrix[0,:] - 1j*lambda_matrix[1,:]\n",
        "    omegaZ=omega_matrix[2,:]\n",
        "\n",
        "    #Coupling constants \n",
        "    omega1Plus=omega_matrix[0,0] + 1j*omega_matrix[1,0]\n",
        "    omega1Minus=omega_matrix[0,0] - 1j* omega_matrix[1,0]\n",
        "    lambda1Z=lambda_matrix[2,0]\n",
        "\n",
        "    # Pauli Matrices\n",
        "    id = np.identity(2)\n",
        "    sx = np.array([[0, 1], [1, 0]], dtype=complex)\n",
        "    sy = np.array([[0, -1j], [1j, 0]], dtype=complex)\n",
        "    sz = np.array([[1, 0], [0, -1]], dtype=complex)\n",
        "\n",
        "    #Construct diagonal matrices\n",
        "    Om = np.diag(omegaZ)\n",
        "    Lp = np.diag(lambdaPlus)\n",
        "    Lm = np.diag(lambdaMinus)\n",
        "\n",
        "    #Define inverse temperature\n",
        "    betaTemperature=1/temperature\n",
        "\n",
        "    #Bloch components \n",
        "    nPlus=bloch_vector[0]+1j*bloch_vector[1]\n",
        "    nMinus=bloch_vector[0] - 1j*bloch_vector[1]\n",
        "    nz=bloch_vector[2]\n",
        "\n",
        "    #Bloch modulus\n",
        "    n=np.sqrt(bloch_vector[0]**2 + bloch_vector[1]**2 + bloch_vector[2]**2)\n",
        "\n",
        "    #K factor for pure/mixed states\n",
        "    K = 0\n",
        "    if round(LA.norm(n), 15) != 1:\n",
        "        K = np.arctanh(n)/n\n",
        "    else:\n",
        "        #Must manually set the covariance matrix and return it to terminate the function\n",
        "        covarianceMatrix[0,0] = -nz\n",
        "        covarianceMatrix[N+1,N+1] = nz\n",
        "        covarianceMatrix[0,N] = covarianceMatrix[N,N+1] = 0.5*nPlus\n",
        "        covarianceMatrix[0,2*N+1] = covarianceMatrix[2*N+1,N+1] = -0.5*nPlus\n",
        "        covarianceMatrix[N,0] = covarianceMatrix[N+1,N] = 0.5*nMinus\n",
        "        covarianceMatrix[2*N+1,0] = covarianceMatrix[N+1,2*N+1] = -0.5*nMinus\n",
        "        #Function will terminate here if pure state\n",
        "        return covarianceMatrix \n",
        "\n",
        "\n",
        "    # Define R which is used to easily move elements to the subdiagonal within a matrix\n",
        "    R = np.zeros((N, N))\n",
        "    for i in range(N-1):\n",
        "        R[i][i+1] = 1\n",
        "\n",
        "    # Make alpha0 and beta0\n",
        "    alpha0 = -2*Om + Lm@R + np.transpose(np.conj(Lm@R))\n",
        "    beta0 = (R.T)@Lp - Lp@R\n",
        "\n",
        "    # Fill alpha\n",
        "    alpha[0:N, 0:N] = alpha0\n",
        "    alpha[0, N] = omega1Plus\n",
        "    alpha[1, N] = lambda1Z.conjugate()\n",
        "    alpha[N, 0] = omega1Minus\n",
        "    alpha[N, 1] = lambda1Z\n",
        "\n",
        "    # Fill beta\n",
        "    beta[0:N, 0:N] = beta0\n",
        "    beta[0, N] = omega1Minus\n",
        "    beta[1, N] = lambda1Z\n",
        "    beta[N, 0] = -omega1Minus\n",
        "    beta[N, 1] = -lambda1Z\n",
        "\n",
        "    # Make alphaPrime and betaPrime to make A\n",
        "    alphaPrime = betaTemperature*alpha # first copy alpha, multiplied by betaTemperature, and then change entries\n",
        "    \n",
        "    alphaPrime[0][0] = 2*K*nz         # Deals with pure states, since if the state is pure, it sets K = 0, \n",
        "    alphaPrime[0][1] = 0              # so we don't need any if statements\n",
        "    alphaPrime[0][N] = -K*nPlus\n",
        "    alphaPrime[1][0] = 0\n",
        "    alphaPrime[1][N] = 0\n",
        "    alphaPrime[N][0] = -K*nMinus\n",
        "    alphaPrime[N][1] = 0\n",
        "\n",
        "    betaPrime = betaTemperature*beta # first copy beta, multiplied by betaTemperature, and then change entries\n",
        "    \n",
        "    betaPrime[0][N] = -K*nMinus\n",
        "    betaPrime[0][1] = 0\n",
        "    betaPrime[1][0] = 0\n",
        "    betaPrime[1][N] = 0\n",
        "    betaPrime[N][0] = K*nMinus\n",
        "    betaPrime[N][1] = 0\n",
        "\n",
        "    # Fill A\n",
        "    A[0:N+1, 0:N+1] = alphaPrime\n",
        "    A[0:N+1, N+1:2*(N+1)] = -betaPrime.conj()\n",
        "    A[N+1:2*(N+1), 0:N+1] = betaPrime\n",
        "    A[N+1:2*(N+1), N+1:2*(N+1)] = -alphaPrime.conj()\n",
        "\n",
        "    # Set covarianceMatrix\n",
        "    covarianceMatrix[0:2*N + 2, 0:2*N + 2] = -LA.tanhm((1/2)*A)\n",
        "\n",
        "    #Return the completed hamiltonian \n",
        "    return covarianceMatrix\n",
        "\n",
        "#Evolve the covariance matrix according to th SE and finite difference method\n",
        "def evolve_lambda(time_array, time_independent_H, initial_matrix):\n",
        "    #Need to define a tensor to hold each density matrix at time intervals \n",
        "    dt=time_array[1]-time_array[0]\n",
        "\n",
        "    #Need a tensor to hold the density matrices at each time interval\n",
        "    #Dimension 0 is how many matrices we have; the length of the time array\n",
        "    #Dimension 1 and 2 are the dimensions of the matrices themselves \n",
        "    #Important to declare the dtype as complex such that we don't cast complex values to real ones\n",
        "    dens_tensor=np.zeros((len(time_array), len(initial_matrix), len(initial_matrix)), dtype=complex)\n",
        "\n",
        "    #Set both the 0th and 1st elements to the intial density matrix\n",
        "    dens_tensor[0]=initial_matrix\n",
        "    dens_tensor[1]=initial_matrix\n",
        "\n",
        "    #Now iterate over the other elements of the density tensor\n",
        "    for ii in range(1, len(time_array)-1):\n",
        "        #Define the commutator for this iteration\n",
        "        commutator=time_independent_H@dens_tensor[ii] - dens_tensor[ii]@time_independent_H\n",
        "\n",
        "        #Now apply the finite difference algorithm\n",
        "        dens_tensor[ii+1]=dens_tensor[ii-1] - 2j*commutator*dt\n",
        "    #Now return the density tensor\n",
        "    return dens_tensor\n",
        "\n",
        "#Give the sigma z expectation value for the system spin\n",
        "def expt_sigmaZ1(covariance_matrix):\n",
        "    #Dimension of the covariance matrix has to be 2(N+1)\n",
        "    #Infer the number of qubits from this \n",
        "    dim=int((len(covariance_matrix)/2)-1)\n",
        "    return covariance_matrix[dim+2, dim+2]"
      ],
      "execution_count": null,
      "outputs": []
    },
    {
      "cell_type": "markdown",
      "metadata": {
        "id": "XBp4SUAnpG9S",
        "colab_type": "text"
      },
      "source": [
        "Trace of the covariance matrix should always be $0$. Use this as a test to see if the mixed and pure state conditions are providing a reasonable covariance matrix"
      ]
    },
    {
      "cell_type": "code",
      "metadata": {
        "id": "HlveHC6TWri5",
        "colab_type": "code",
        "colab": {
          "base_uri": "https://localhost:8080/",
          "height": 34
        },
        "outputId": "2ff96d40-1c2b-4d9c-cf6e-dfcc1f540825"
      },
      "source": [
        "#Testing mixed state   \n",
        "N=3\n",
        "omega=np.random.uniform(0,0.5, size=(3, N))+1j*np.random.uniform(0,0.5, size=(3, N)) #Make it complex \n",
        "lambdaa=np.random.uniform(0,0.5, size=(3, N))+1j*np.random.uniform(0,0.5, size=(3, N))\n",
        "\n",
        "temperature=300\n",
        "blochVector=np.array([0.5,0.5,0.5])\n",
        "\n",
        "covMAT=covariance_matrix(N, omega, lambdaa, blochVector, temperature)\n",
        "print(np.trace(covMAT))"
      ],
      "execution_count": null,
      "outputs": [
        {
          "output_type": "stream",
          "text": [
            "(-4.738019093873063e-16+0.005221428248196759j)\n"
          ],
          "name": "stdout"
        }
      ]
    },
    {
      "cell_type": "code",
      "metadata": {
        "id": "D-y6RiYEDdwv",
        "colab_type": "code",
        "colab": {
          "base_uri": "https://localhost:8080/",
          "height": 34
        },
        "outputId": "b52ff588-f11a-4821-b41e-21936757d0ef"
      },
      "source": [
        "#Testing pure state \n",
        "blochPure=np.array([1,0,0])\n",
        "\n",
        "pureCovMat=covariance_matrix(N, omega, lambdaa, blochPure, temperature)\n",
        "print(np.trace(pureCovMat))"
      ],
      "execution_count": null,
      "outputs": [
        {
          "output_type": "stream",
          "text": [
            "0j\n"
          ],
          "name": "stdout"
        }
      ]
    },
    {
      "cell_type": "markdown",
      "metadata": {
        "id": "OeYNSebxpSM2",
        "colab_type": "text"
      },
      "source": [
        "Both results here are in line with $Tr(\\underline{\\Lambda})=0$, suggesting that the code is functioning well for a static case. Now check the evolution of the covariance remains with a $0$ trace throughout time. "
      ]
    },
    {
      "cell_type": "code",
      "metadata": {
        "id": "9WFxvSY9pl82",
        "colab_type": "code",
        "colab": {
          "base_uri": "https://localhost:8080/",
          "height": 657
        },
        "outputId": "25027f23-33a0-4eec-89bf-c6c260386a16"
      },
      "source": [
        "#Declare a time array for testing \n",
        "dt=0.01\n",
        "times=np.arange(0, 5+dt, dt)\n",
        "\n",
        "#Declare the hamiltonian and the covariance matrix \n",
        "covMat=covariance_matrix(N, omega, lambdaa, blochVector, temperature)\n",
        "hamiltonian=total_hamiltonian(N, omega, lambdaa)\n",
        "\n",
        "#Evolve the covariance matrix\n",
        "evolved_covMats=evolve_lambda(times, hamiltonian, covMat)\n",
        "\n",
        "#Plotting the trace through time \n",
        "traces=np.zeros(len(times), dtype=float)\n",
        "for ii in range(len(times)):\n",
        "    traces[ii]=round(np.trace(evolved_covMats[ii]),3)\n",
        "\n",
        "plt.figure(figsize=(12,10))\n",
        "plt.plot(times, traces)\n",
        "plt.grid(linewidth=0.2)\n",
        "plt.xlabel('Times')\n",
        "plt.ylabel('Trace of covariance matrix')"
      ],
      "execution_count": null,
      "outputs": [
        {
          "output_type": "stream",
          "text": [
            "/usr/local/lib/python3.6/dist-packages/ipykernel_launcher.py:15: ComplexWarning: Casting complex values to real discards the imaginary part\n",
            "  from ipykernel import kernelapp as app\n"
          ],
          "name": "stderr"
        },
        {
          "output_type": "execute_result",
          "data": {
            "text/plain": [
              "Text(0, 0.5, 'Trace of covariance matrix')"
            ]
          },
          "metadata": {
            "tags": []
          },
          "execution_count": 9
        },
        {
          "output_type": "display_data",
          "data": {
            "image/png": "[encoded data removed]",
            "text/plain": [
              "<Figure size 864x720 with 1 Axes>"
            ]
          },
          "metadata": {
            "tags": [],
            "needs_background": "light"
          }
        }
      ]
    },
    {
      "cell_type": "markdown",
      "metadata": {
        "id": "yi0rZRpSsX8Q",
        "colab_type": "text"
      },
      "source": [
        "Looks good, the trace of the covariance matrix remains fixed at $0$ as it should. Progress on to some modelling and comparison to the brute force spin case."
      ]
    },
    {
      "cell_type": "markdown",
      "metadata": {
        "id": "Eu1XZkF8shVR",
        "colab_type": "text"
      },
      "source": [
        "# Comparison with Brute Force Spin Chain"
      ]
    },
    {
      "cell_type": "code",
      "metadata": {
        "id": "pBFKnc1YsmNz",
        "colab_type": "code",
        "colab": {}
      },
      "source": [
        "#Testing the function to find the sigma z expectation of covariance matrix first \n",
        "sigma_z=expt_sigmaZ1(covMat)"
      ],
      "execution_count": null,
      "outputs": []
    },
    {
      "cell_type": "markdown",
      "metadata": {
        "id": "YNFaFLB3uq3v",
        "colab_type": "text"
      },
      "source": [
        "Generate $\\left\\langle \\hat{\\sigma}_1^z \\right\\rangle$ for the covariance matrix first and compare to brute force. "
      ]
    },
    {
      "cell_type": "code",
      "metadata": {
        "id": "EjLjrsCevIc-",
        "colab_type": "code",
        "colab": {
          "base_uri": "https://localhost:8080/",
          "height": 548
        },
        "outputId": "d8aa9c20-2144-484e-8d69-95768dad56b2"
      },
      "source": [
        "sigmaZvalues=np.zeros(len(times), dtype=float)\n",
        "for ii in range(len(times)):\n",
        "    sigmaZvalues[ii]=expt_sigmaZ1(evolved_covMats[ii])\n",
        "\n",
        "#Plotting how this chnages with time \n",
        "plt.figure(figsize=(12,8))\n",
        "plt.plot(times, sigmaZvalues)\n",
        "plt.grid(linewidth=0.2)\n",
        "plt.xlabel('Times')\n",
        "plt.ylabel(r'$\\left\\langle \\hat{\\sigma}_1^z \\right\\rangle$')"
      ],
      "execution_count": null,
      "outputs": [
        {
          "output_type": "stream",
          "text": [
            "/usr/local/lib/python3.6/dist-packages/ipykernel_launcher.py:3: ComplexWarning: Casting complex values to real discards the imaginary part\n",
            "  This is separate from the ipykernel package so we can avoid doing imports until\n"
          ],
          "name": "stderr"
        },
        {
          "output_type": "execute_result",
          "data": {
            "text/plain": [
              "Text(0, 0.5, '$\\\\left\\\\langle \\\\hat{\\\\sigma}_1^z \\\\right\\\\rangle$')"
            ]
          },
          "metadata": {
            "tags": []
          },
          "execution_count": 11
        },
        {
          "output_type": "display_data",
          "data": {
            "image/png": "[encoded data removed]",
            "text/plain": [
              "<Figure size 864x576 with 1 Axes>"
            ]
          },
          "metadata": {
            "tags": [],
            "needs_background": "light"
          }
        }
      ]
    },
    {
      "cell_type": "markdown",
      "metadata": {
        "id": "-J6scgilwYAf",
        "colab_type": "text"
      },
      "source": [
        "Now import the modules needed for the brute force case and compare it"
      ]
    },
    {
      "cell_type": "code",
      "metadata": {
        "id": "G0ZXaqvywb2f",
        "colab_type": "code",
        "colab": {}
      },
      "source": [
        "'''Functions'''\n",
        "#Functions to generate the sigmas in the needed Hilbert space\n",
        "def sigma_z_hilbert(current_term, dimension):\n",
        "    #Set the pauli operators \n",
        "    sigma_z=np.array([[1,0],[0,-1]], dtype=complex)\n",
        "    \n",
        "    #Raise error for introducing index of 0\n",
        "    if current_term==0 or current_term>dimension:\n",
        "        error_msg='Error! Must provide term between 1 and N'\n",
        "        return error_msg\n",
        "        \n",
        "    #Initialise the first term as the sigma_z if current n=1\n",
        "    elif current_term==1:\n",
        "        final_sig_z=sigma_z\n",
        "        #iterate over the rest with identities to produce necessary size \n",
        "        for ii in range(1, dimension):\n",
        "            final_sig_z=np.kron(final_sig_z, np.identity(2))\n",
        "        return final_sig_z\n",
        "            \n",
        "    #Deal with the other cases where the term wanted is in the middle or end\n",
        "    else:\n",
        "        #Initialise as idenitiy for n=1 term outside of loop \n",
        "        final_sig_z=np.identity(2)\n",
        "        \n",
        "        #Loop over the other needed idenities from n=2 up until the sigma term\n",
        "        for ii in range(1,current_term-1):\n",
        "            final_sig_z=np.kron(final_sig_z, np.identity(2))\n",
        "            \n",
        "        #Now add the n=current_term sigma\n",
        "        final_sig_z=np.kron(final_sig_z, sigma_z)\n",
        "        \n",
        "        #Finally loop again to get the rest of the needed identities\n",
        "        for ii in range(current_term, dimension):\n",
        "            final_sig_z=np.kron(final_sig_z, np.identity(2))\n",
        "        return final_sig_z\n",
        "\n",
        "def sigma_plus_hilbert(current_term, dimension):\n",
        "    #Set the pauli operators \n",
        "    sigma_plus=np.array([[0,1],[0,0]], dtype=complex)\n",
        "    \n",
        "    #Raise error for introducing index of 0\n",
        "    if current_term==0 or current_term>dimension:\n",
        "        error_msg='Error! Must provide term between 1 and N'\n",
        "        return error_msg\n",
        "        \n",
        "    #Initialise the first term as the sigma_ if current n=1\n",
        "    elif current_term==1:\n",
        "        final_sig_plus=sigma_plus\n",
        "        #iterate over the rest with identities to produce necessary size \n",
        "        for ii in range(1, dimension):\n",
        "            final_sig_plus=np.kron(final_sig_plus, np.identity(2))\n",
        "        return final_sig_plus\n",
        "            \n",
        "    #Deal with the other cases where the term wanted is in the middle or end\n",
        "    else:\n",
        "        #Initialise as idenitiy for n=1 term outside of loop \n",
        "        final_sig_plus=np.identity(2)\n",
        "        \n",
        "        #Loop over the other needed idenities from n=2 up until the sigma term\n",
        "        for ii in range(1,current_term-1):\n",
        "            final_sig_plus=np.kron(final_sig_plus, np.identity(2))\n",
        "            \n",
        "        #Now add the n=current_term sigma\n",
        "        final_sig_plus=np.kron(final_sig_plus, sigma_plus)\n",
        "        \n",
        "        #Finally loop again to get the rest of the needed identities\n",
        "        for ii in range(current_term, dimension):\n",
        "            final_sig_plus=np.kron(final_sig_plus, np.identity(2)) \n",
        "        return final_sig_plus    \n",
        "\n",
        "def sigma_minus_hilbert(current_term, dimension):\n",
        "    #Set the pauli operators \n",
        "    sigma_minus=np.array([[0,0],[1,0]], dtype=complex)\n",
        "    \n",
        "    #Raise error for introducing index of 0\n",
        "    if current_term==0 or current_term>dimension:\n",
        "        error_msg='Error! Must provide term between 1 and N'\n",
        "        return error_msg\n",
        "        \n",
        "    #Initialise the first term as the sigma_ if current n=1\n",
        "    elif current_term==1:\n",
        "        final_sig_minus=sigma_minus\n",
        "        #iterate over the rest with identities to produce necessary size \n",
        "        for ii in range(1, dimension):\n",
        "            final_sig_minus=np.kron(final_sig_minus, np.identity(2))\n",
        "        return final_sig_minus\n",
        "            \n",
        "    #Deal with the other cases where the term wanted is in the middle or end\n",
        "    else:\n",
        "        #Initialise as idenitiy for n=1 term outside of loop \n",
        "        final_sig_minus=np.identity(2)\n",
        "        \n",
        "        #Loop over the other needed idenities from n=2 up until the sigma term\n",
        "        for ii in range(1,current_term-1):\n",
        "            final_sig_minus=np.kron(final_sig_minus, np.identity(2))\n",
        "            \n",
        "        #Now add the n=current_term sigma\n",
        "        final_sig_minus=np.kron(final_sig_minus, sigma_minus)\n",
        "        \n",
        "        #Finally loop again to get the rest of the needed identities\n",
        "        for ii in range(current_term, dimension):\n",
        "            final_sig_minus=np.kron(final_sig_minus, np.identity(2))\n",
        "        return final_sig_minus\n",
        "    \n",
        "\n",
        "    \n",
        "\n",
        "#Hamiltonian is now split into 3 components \n",
        "#Code each component and include a final function to sum them all \n",
        "#Hamiltonian of the system of interest \n",
        "def H_s(wx, wy, wz, dimension):\n",
        "    H_s=(wx*(sigma_plus_hilbert(1, dimension)+1j*sigma_minus_hilbert(1, dimension))+ #Generate the sigma_x array\n",
        "         wy*(sigma_plus_hilbert(1,dimension)-1j*sigma_minus_hilbert(1, dimension))+\n",
        "         wz*(sigma_z_hilbert(1,dimension)))\n",
        "    return H_s\n",
        "\n",
        "#Hamiltonian of the environmental terms\n",
        "def H_e(w_z_array, lam_plus_array, lam_minus_array, dimension):\n",
        "    term_1=np.zeros((2**dimension, 2**dimension), dtype=complex)\n",
        "    term_2=np.zeros((2**dimension, 2**dimension), dtype=complex)\n",
        "    H_e=np.zeros((2**dimension, 2**dimension), dtype=complex)\n",
        "    if dimension<2:\n",
        "        pass\n",
        "    else:\n",
        "        for ii in range(2, dimension+1):\n",
        "            term_1+=w_z_array[ii-1]*sigma_z_hilbert(ii, dimension) #Minus 1 to account for python indexing starting at 0\n",
        "        for ii in range(2, dimension):\n",
        "            term_2+=(lam_minus_array[ii-1]*sigma_minus_hilbert(ii, dimension)@sigma_plus_hilbert(ii+1, dimension)+\n",
        "                     lam_plus_array[ii]*sigma_plus_hilbert(ii, dimension)@sigma_plus_hilbert(ii+1, dimension))\n",
        "        #Complete sum of hamiltonian\n",
        "        H_e=term_1 + term_2 + term_2.conj().T\n",
        "    return H_e\n",
        "\n",
        "#Hamiltonian of the interaction between the environment and the system\n",
        "def V_se(lam_plus_1, lam_minus_1, lam_z_1, dimension):\n",
        "    term=0+0j\n",
        "    V_se=0+0j\n",
        "    term+=(lam_minus_1*sigma_minus_hilbert(1, dimension)+\n",
        "           lam_plus_1*sigma_plus_hilbert(1,dimension)+\n",
        "           lam_z_1*sigma_z_hilbert(1,dimension))@sigma_plus_hilbert(2,dimension)\n",
        "    #Sum for hamiltonian term\n",
        "    V_se+=term+term.conj().T\n",
        "    return V_se\n",
        "    \n",
        "#Complete Hamiltonian Function\n",
        "def H_total(dimension, w_matrix, lam_matrix):\n",
        "    return (H_s(w_matrix[0,0], w_matrix[0,1], w_matrix[0,2], dimension) +\n",
        "            H_e(w_matrix[:,0], lam_matrix[:,0], lam_matrix[:,1], dimension) +\n",
        "            V_se(lam_matrix[0,0], lam_matrix[0,1], lam_matrix[0,2], dimension))\n",
        "        \n",
        "\n",
        "\n",
        "\n",
        "    \n",
        "#Initial state that needs to be evolved through time\n",
        "#Given a Bloch vector nx ny nz and environment temperature \n",
        "def initial_state(nx, ny, nz, temperature, w_matrix, lam_matrix, dimension):\n",
        "    len_state=np.sqrt(nx**2 + ny**2 + nz**2)\n",
        "    if len_state>1:\n",
        "        error_string='Error! The Bloch vector can at most be length 1, you entered a vector of length %f' % len_state\n",
        "        return error_string\n",
        "    else:\n",
        "        #Need to generate the system state and the environment state \n",
        "        system_state=np.zeros((2,2), dtype=complex)\n",
        "        environment_state=np.zeros((2**(dimension-1), 2**(dimension-1)), dtype=complex)\n",
        "        #Placeholder for the total state \n",
        "        total_state=np.zeros((2**dimension, 2**dimension), dtype=complex)\n",
        "        \n",
        "        #Generate the system state\n",
        "        system_state+=0.5*(np.identity(2, dtype=complex)+\n",
        "                          nx*(sigma_plus_hilbert(1, 1)+1j*sigma_minus_hilbert(1, 1))+\n",
        "                          ny*(sigma_plus_hilbert(1, 1)-1j*sigma_minus_hilbert(1,1))+\n",
        "                          nz*sigma_z_hilbert(1, 1))\n",
        "        \n",
        "        #Placeholder for the environment state since the partition is just the trace of this \n",
        "        beta=1/temperature\n",
        "        placeholder=LA.expm(-beta * H_e(w_matrix[:,0], lam_matrix[:,0], lam_matrix[:,1], dimension-1))\n",
        "        partition=np.trace(placeholder)\n",
        "        environment_state+=placeholder/partition\n",
        "        \n",
        "        #Now declare the final state\n",
        "        total_state+=np.kron(system_state, environment_state)\n",
        "        return total_state\n",
        "\n",
        "\n",
        "\n",
        "\n",
        "#The time evolution unitary operator\n",
        "def U(N, t):\n",
        "    #Take hbar=1\n",
        "    arg=1j*hamiltonian(N)*t\n",
        "    #Exponentiate the matrix argument\n",
        "    return LA.expm(arg)\n",
        "\n",
        "\n",
        "\n",
        "\n",
        "#Function for evolving a state forward in time\n",
        "def evolve_exponentiation(time_array, initial_matrix, dimension, w_matrix, lam_matrix):\n",
        "    #Time spacing\n",
        "    dt=time_array[1]-time_array[0]\n",
        "    \n",
        "    #Create a tensor to hold the density matrix values through time\n",
        "    dens_tensor=np.zeros((len(time_array), len(initial_matrix), 2**dimension), dtype=complex)\n",
        "\n",
        "    #Set the initial value \n",
        "    dens_tensor[0]=initial_matrix \n",
        "\n",
        "    #Only need to calculate the U matrix once since the Hamiltonian is time-independent \n",
        "    #Save computational power \n",
        "    U_mat_dt=np.zeros((len(initial_matrix), 2**dimension), dtype=complex)\n",
        "    U_mat_dt+=LA.expm(1j * H_total(dimension, w_matrix, lam_matrix) * dt)\n",
        "\n",
        "    #Loop through the other values\n",
        "    for ii in range(1, len(time_array)):\n",
        "        #Test that the matrix is unitary \n",
        "        print(U_mat_dt@U_mat_dt.conj().T)\n",
        "        dens_tensor[ii]=(U_mat_dt@dens_tensor[ii-1])\n",
        "        dens_tensor[ii]=dens_tensor[ii]@U_mat_dt.conj().T\n",
        "    return dens_tensor\n",
        "\n",
        "\n",
        "\n",
        "\n",
        "#Function that uses numerical integration instead of matrix exponentiation to potentially \n",
        "#reduce computational complexity\n",
        "def evolve_integrator(time_array, initial_matrix, dimension, w_matrix, lam_matrix):\n",
        "    #Need to define a tensor to hold each density matrix at time intervals \n",
        "    dt=time_array[1]-time_array[0]\n",
        "\n",
        "    #Need a tensor to hold the density matrices at each time interval\n",
        "    #Dimension 0 is how many matrices we have; the length of the time array\n",
        "    #Dimension 1 and 2 are the dimensions of the matrices themselves \n",
        "    #Important to declare the dtype as complex such that we don't cast complex values to real ones\n",
        "    dens_tensor=np.zeros((len(time_array), len(initial_matrix), len(initial_matrix)), dtype=complex)\n",
        "\n",
        "    #Set both the 0th and 1st elements to the intial density matrix\n",
        "    dens_tensor[0]=initial_matrix\n",
        "    dens_tensor[1]=initial_matrix\n",
        "\n",
        "    #Now iterate over the other elements of the density tensor\n",
        "    for ii in range(1, len(time_array)-1):\n",
        "        #Define the commutator for this iteration\n",
        "        current_H=H_total(dimension, w_matrix, lam_matrix)\n",
        "        commutator=current_H@dens_tensor[ii] - dens_tensor[ii]@current_H\n",
        "\n",
        "        #Now apply the finite difference algorithm\n",
        "        dens_tensor[ii+1]=dens_tensor[ii-1] - 2j*commutator*dt\n",
        "\n",
        "    #Now return the density tensor\n",
        "    return dens_tensor\n",
        "\n",
        "\n",
        "\n",
        "\n",
        "#Function to track the trace of the density matrix throughout the calculations\n",
        "def track_trace(density_tensor):\n",
        "    traces=np.zeros(len(density_tensor), dtype=complex)\n",
        "    for ii in range(len(density_tensor)):\n",
        "        traces[ii]=np.trace(density_tensor[ii])\n",
        "    return traces\n",
        "\n",
        "#Find the expectation of sigma_^z_1 given the density matrix \n",
        "def sigma_z1_BF(density_matrix):\n",
        "    #Infer the dimension from the density matrix \n",
        "    dim=int(np.log2(len(density_matrix)))\n",
        "\n",
        "    #Sigma needed \n",
        "    sigZ1=sigma_z_hilbert(1, dim)\n",
        "\n",
        "    #Expectation value \n",
        "    expectation=np.trace(density_matrix@sigZ1)\n",
        "\n",
        "    #Return the expectation value \n",
        "    return expectation"
      ],
      "execution_count": null,
      "outputs": []
    },
    {
      "cell_type": "code",
      "metadata": {
        "id": "GSMtUR8hy-Gm",
        "colab_type": "code",
        "colab": {
          "base_uri": "https://localhost:8080/",
          "height": 51
        },
        "outputId": "ee95adb0-3f49-4141-91ef-15b587f63054"
      },
      "source": [
        "#Find the brute force states \n",
        "BF_initial=initial_state(blochVector[0], blochVector[1], blochVector[2], temperature, omega, lambdaa, N)\n",
        "BF_densityTensor=evolve_integrator(times, BF_initial, N, omega, lambdaa)\n",
        "BF_expectation=np.zeros(len(times), dtype=float)\n",
        "for ii in range(len(times)):\n",
        "    BF_expectation[ii]=sigma_z1_BF(BF_densityTensor[ii])"
      ],
      "execution_count": null,
      "outputs": [
        {
          "output_type": "stream",
          "text": [
            "/usr/local/lib/python3.6/dist-packages/ipykernel_launcher.py:6: ComplexWarning: Casting complex values to real discards the imaginary part\n",
            "  \n"
          ],
          "name": "stderr"
        }
      ]
    },
    {
      "cell_type": "code",
      "metadata": {
        "id": "0jxO5xUtz58-",
        "colab_type": "code",
        "colab": {
          "base_uri": "https://localhost:8080/",
          "height": 514
        },
        "outputId": "56283a15-5d3e-44e1-9fbc-7660bedbfd9a"
      },
      "source": [
        "#Plotting the comparison of the two \n",
        "plt.figure(figsize=(12,8))\n",
        "plt.plot(times, sigmaZvalues, linestyle='-', color='blue', label='Quadratic Fermion Hamiltonian')\n",
        "plt.scatter(times, BF_expectation, color='red', label='Brute Force', s=0.2)\n",
        "plt.grid(linewidth=0.2)\n",
        "plt.xlabel('Times')\n",
        "plt.ylabel(r'$\\left\\langle \\hat{\\sigma}_1^z \\right\\rangle$')\n",
        "plt.legend()"
      ],
      "execution_count": null,
      "outputs": [
        {
          "output_type": "execute_result",
          "data": {
            "text/plain": [
              "<matplotlib.legend.Legend at 0x7f2e5c73b358>"
            ]
          },
          "metadata": {
            "tags": []
          },
          "execution_count": 14
        },
        {
          "output_type": "display_data",
          "data": {
            "image/png": "[encoded data removed]",
            "text/plain": [
              "<Figure size 864x576 with 1 Axes>"
            ]
          },
          "metadata": {
            "tags": [],
            "needs_background": "light"
          }
        }
      ]
    },
    {
      "cell_type": "code",
      "metadata": {
        "id": "kmFhW5vjUd4h",
        "colab_type": "code",
        "colab": {}
      },
      "source": [
        ""
      ],
      "execution_count": null,
      "outputs": []
    }
  ]
}