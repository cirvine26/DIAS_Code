{
  "nbformat": 4,
  "nbformat_minor": 0,
  "metadata": {
    "colab": {
      "name": "Quantum Control in Fermionic Spin Chain.ipynb",
      "provenance": [],
      "collapsed_sections": [],
      "authorship_tag": "ABX9TyMFc72jtuXq5xkXiEndanpx",
      "include_colab_link": true
    },
    "kernelspec": {
      "name": "python3",
      "display_name": "Python 3"
    },
    "widgets": {
      "application/vnd.jupyter.widget-state+json": {
        "2db7d356a7d1451abb87206104c42b12": {
          "model_module": "@jupyter-widgets/controls",
          "model_name": "HBoxModel",
          "state": {
            "_view_name": "HBoxView",
            "_dom_classes": [],
            "_model_name": "HBoxModel",
            "_view_module": "@jupyter-widgets/controls",
            "_model_module_version": "1.5.0",
            "_view_count": null,
            "_view_module_version": "1.5.0",
            "box_style": "",
            "layout": "IPY_MODEL_708dc274ac7f40ca93d8dd6dfe4ee022",
            "_model_module": "@jupyter-widgets/controls",
            "children": [
              "IPY_MODEL_bec4d6c248a648bebec84743d848bf94",
              "IPY_MODEL_0f99e712876e4942bab75f658441ffec"
            ]
          }
        },
        "708dc274ac7f40ca93d8dd6dfe4ee022": {
          "model_module": "@jupyter-widgets/base",
          "model_name": "LayoutModel",
          "state": {
            "_view_name": "LayoutView",
            "grid_template_rows": null,
            "right": null,
            "justify_content": null,
            "_view_module": "@jupyter-widgets/base",
            "overflow": null,
            "_model_module_version": "1.2.0",
            "_view_count": null,
            "flex_flow": null,
            "width": null,
            "min_width": null,
            "border": null,
            "align_items": null,
            "bottom": null,
            "_model_module": "@jupyter-widgets/base",
            "top": null,
            "grid_column": null,
            "overflow_y": null,
            "overflow_x": null,
            "grid_auto_flow": null,
            "grid_area": null,
            "grid_template_columns": null,
            "flex": null,
            "_model_name": "LayoutModel",
            "justify_items": null,
            "grid_row": null,
            "max_height": null,
            "align_content": null,
            "visibility": null,
            "align_self": null,
            "height": null,
            "min_height": null,
            "padding": null,
            "grid_auto_rows": null,
            "grid_gap": null,
            "max_width": null,
            "order": null,
            "_view_module_version": "1.2.0",
            "grid_template_areas": null,
            "object_position": null,
            "object_fit": null,
            "grid_auto_columns": null,
            "margin": null,
            "display": null,
            "left": null
          }
        },
        "bec4d6c248a648bebec84743d848bf94": {
          "model_module": "@jupyter-widgets/controls",
          "model_name": "FloatProgressModel",
          "state": {
            "_view_name": "ProgressView",
            "style": "IPY_MODEL_0720939846f64f96aa9d06cbef58e977",
            "_dom_classes": [],
            "description": "100%",
            "_model_name": "FloatProgressModel",
            "bar_style": "success",
            "max": 49,
            "_view_module": "@jupyter-widgets/controls",
            "_model_module_version": "1.5.0",
            "value": 49,
            "_view_count": null,
            "_view_module_version": "1.5.0",
            "orientation": "horizontal",
            "min": 0,
            "description_tooltip": null,
            "_model_module": "@jupyter-widgets/controls",
            "layout": "IPY_MODEL_2f366fc4ef614ee4b8edeba7db4b6a44"
          }
        },
        "0f99e712876e4942bab75f658441ffec": {
          "model_module": "@jupyter-widgets/controls",
          "model_name": "HTMLModel",
          "state": {
            "_view_name": "HTMLView",
            "style": "IPY_MODEL_81cbe32f3fb44e4fba739536ad1eb9bb",
            "_dom_classes": [],
            "description": "",
            "_model_name": "HTMLModel",
            "placeholder": "​",
            "_view_module": "@jupyter-widgets/controls",
            "_model_module_version": "1.5.0",
            "value": " 49/49 [05:10&lt;00:00,  6.33s/it]",
            "_view_count": null,
            "_view_module_version": "1.5.0",
            "description_tooltip": null,
            "_model_module": "@jupyter-widgets/controls",
            "layout": "IPY_MODEL_64a830d50d95478f84a6be36edd3188a"
          }
        },
        "0720939846f64f96aa9d06cbef58e977": {
          "model_module": "@jupyter-widgets/controls",
          "model_name": "ProgressStyleModel",
          "state": {
            "_view_name": "StyleView",
            "_model_name": "ProgressStyleModel",
            "description_width": "initial",
            "_view_module": "@jupyter-widgets/base",
            "_model_module_version": "1.5.0",
            "_view_count": null,
            "_view_module_version": "1.2.0",
            "bar_color": null,
            "_model_module": "@jupyter-widgets/controls"
          }
        },
        "2f366fc4ef614ee4b8edeba7db4b6a44": {
          "model_module": "@jupyter-widgets/base",
          "model_name": "LayoutModel",
          "state": {
            "_view_name": "LayoutView",
            "grid_template_rows": null,
            "right": null,
            "justify_content": null,
            "_view_module": "@jupyter-widgets/base",
            "overflow": null,
            "_model_module_version": "1.2.0",
            "_view_count": null,
            "flex_flow": null,
            "width": null,
            "min_width": null,
            "border": null,
            "align_items": null,
            "bottom": null,
            "_model_module": "@jupyter-widgets/base",
            "top": null,
            "grid_column": null,
            "overflow_y": null,
            "overflow_x": null,
            "grid_auto_flow": null,
            "grid_area": null,
            "grid_template_columns": null,
            "flex": null,
            "_model_name": "LayoutModel",
            "justify_items": null,
            "grid_row": null,
            "max_height": null,
            "align_content": null,
            "visibility": null,
            "align_self": null,
            "height": null,
            "min_height": null,
            "padding": null,
            "grid_auto_rows": null,
            "grid_gap": null,
            "max_width": null,
            "order": null,
            "_view_module_version": "1.2.0",
            "grid_template_areas": null,
            "object_position": null,
            "object_fit": null,
            "grid_auto_columns": null,
            "margin": null,
            "display": null,
            "left": null
          }
        },
        "81cbe32f3fb44e4fba739536ad1eb9bb": {
          "model_module": "@jupyter-widgets/controls",
          "model_name": "DescriptionStyleModel",
          "state": {
            "_view_name": "StyleView",
            "_model_name": "DescriptionStyleModel",
            "description_width": "",
            "_view_module": "@jupyter-widgets/base",
            "_model_module_version": "1.5.0",
            "_view_count": null,
            "_view_module_version": "1.2.0",
            "_model_module": "@jupyter-widgets/controls"
          }
        },
        "64a830d50d95478f84a6be36edd3188a": {
          "model_module": "@jupyter-widgets/base",
          "model_name": "LayoutModel",
          "state": {
            "_view_name": "LayoutView",
            "grid_template_rows": null,
            "right": null,
            "justify_content": null,
            "_view_module": "@jupyter-widgets/base",
            "overflow": null,
            "_model_module_version": "1.2.0",
            "_view_count": null,
            "flex_flow": null,
            "width": null,
            "min_width": null,
            "border": null,
            "align_items": null,
            "bottom": null,
            "_model_module": "@jupyter-widgets/base",
            "top": null,
            "grid_column": null,
            "overflow_y": null,
            "overflow_x": null,
            "grid_auto_flow": null,
            "grid_area": null,
            "grid_template_columns": null,
            "flex": null,
            "_model_name": "LayoutModel",
            "justify_items": null,
            "grid_row": null,
            "max_height": null,
            "align_content": null,
            "visibility": null,
            "align_self": null,
            "height": null,
            "min_height": null,
            "padding": null,
            "grid_auto_rows": null,
            "grid_gap": null,
            "max_width": null,
            "order": null,
            "_view_module_version": "1.2.0",
            "grid_template_areas": null,
            "object_position": null,
            "object_fit": null,
            "grid_auto_columns": null,
            "margin": null,
            "display": null,
            "left": null
          }
        }
      }
    }
  },
  "cells": [
    {
      "cell_type": "markdown",
      "metadata": {
        "id": "view-in-github",
        "colab_type": "text"
      },
      "source": [
        "<a href=\"https://colab.research.google.com/github/cirvine26/DIAS_Code/blob/master/Quantum_Control_in_Fermionic_Spin_Chain.ipynb\" target=\"_parent\"><img src=\"https://colab.research.google.com/assets/colab-badge.svg\" alt=\"Open In Colab\"/></a>"
      ]
    },
    {
      "cell_type": "markdown",
      "metadata": {
        "id": "8UcMQd4S8D1N",
        "colab_type": "text"
      },
      "source": [
        "# Quantum Control in Fermionic Spin Chain\n",
        "After application of Jordan-Wigner transformation to get a quadratic fermionic hamiltonian which maps a system of N qubits to a $2N \\times 2N$ density matrix (rather than the standard $2^N \\times 2^N$) we can use $Tr(\\rho ^2)$ where $\\rho$ is the density matrix of the composite system as a means to measure the purity of the state. This also leads to information about the decoherence, as $Tr(\\rho ^2) \\leq1$ with $Tr(\\rho ^2)=1$ corresponding to a pure state. As this measure decreases towards $0$, the state becomes more mixed (Entangled?) and more decoherent. \n",
        "\n",
        "\n",
        "Consider using a Gradient Descent algorithm to iterate over the free parameters $\\vec{\\omega}$ and $\\vec{\\lambda}$ in the Spin system Hamiltonian. Optimise $Tr(\\rho^2)$ to as close to $1$ as possible to find the configuration that preserves the purity of the state. Additionally could find the configuration that causes $Tr(\\rho^2)\\sim 0$ to find the most decoherent configuration. \n",
        "\n",
        "Maybe also considering adding the temperature $T$ and the initial Bloch Vector $\\vec{n}$ as features for the ML model to optimise over."
      ]
    },
    {
      "cell_type": "markdown",
      "metadata": {
        "id": "FcpFCUS3RMXi",
        "colab_type": "text"
      },
      "source": [
        "An error function that may be more useful could be the fidelity. This is given by $\\left\\langle \\psi(0) | \\rho |\\psi(0) \\right\\rangle$"
      ]
    },
    {
      "cell_type": "markdown",
      "metadata": {
        "id": "M8jbzD79Ocqi",
        "colab_type": "text"
      },
      "source": [
        "More interesting to use $Tr(\\rho^2)$ and to investigate how the system performs at control towards a pure state as the temperautre is increased."
      ]
    },
    {
      "cell_type": "code",
      "metadata": {
        "id": "BXQE7vYLZbnp",
        "colab_type": "code",
        "colab": {}
      },
      "source": [
        "'''Imports'''\n",
        "import numpy as np \n",
        "import matplotlib.pyplot as plt\n",
        "plt.style.use('seaborn')\n",
        "from tqdm.notebook import tqdm\n",
        "import scipy.linalg as LA\n",
        "import time \n",
        "np.set_printoptions(precision=3)"
      ],
      "execution_count": null,
      "outputs": []
    },
    {
      "cell_type": "code",
      "metadata": {
        "id": "EIgAjhxEgVVr",
        "colab_type": "code",
        "colab": {}
      },
      "source": [
        "'''Functions from the previous package'''\n",
        "#Returns the total matrix hamiltonian of the entire system, including the N+1 ghost particle \n",
        "def total_hamiltonian(N, omega_matrix, lambda_matrix):\n",
        "    #Make the needed empty arrays \n",
        "    H=np.zeros((2*(N+1),2*(N+1)), dtype=complex)\n",
        "    alpha = np.zeros((N+1, N+1), dtype=complex)\n",
        "    beta = np.zeros((N+1, N+1), dtype=complex)\n",
        "    alpha0 = np.zeros((N, N), dtype=complex)\n",
        "    beta0 = np.zeros((N, N), dtype=complex)\n",
        "\n",
        "    #Only 1st omega x and y terms appear in the hamiltonian whereas omega z appears for all qubits \n",
        "    lambdaPlus=lambda_matrix[0,:] + 1j*lambda_matrix[1,:]\n",
        "    lambdaMinus=lambda_matrix[0,:] - 1j*lambda_matrix[1,:]\n",
        "    omegaZ=omega_matrix[2,:]\n",
        "\n",
        "    #Coupling constants \n",
        "    omega1Plus=omega_matrix[0,0] + 1j*omega_matrix[1,0]\n",
        "    omega1Minus=omega_matrix[0,0] - 1j* omega_matrix[1,0]\n",
        "    lambda1Z=lambda_matrix[2,0]\n",
        "\n",
        "    # Pauli Matrices\n",
        "    id = np.identity(2)\n",
        "    sx = np.array([[0, 1], [1, 0]], dtype=complex)\n",
        "    sy = np.array([[0, -1j], [1j, 0]], dtype=complex)\n",
        "    sz = np.array([[1, 0], [0, -1]], dtype=complex)\n",
        "\n",
        "    #Construct diagonal matrices\n",
        "    Om = np.diag(omegaZ)\n",
        "    Lp = np.diag(lambdaPlus)\n",
        "    Lm = np.diag(lambdaMinus)\n",
        "\n",
        "    # Define R which is used to easily move elements to the subdiagonal within a matrix\n",
        "    R = np.zeros((N, N))\n",
        "    for i in range(N-1):\n",
        "     R[i][i+1] = 1\n",
        "\n",
        "    # Make alpha0 and beta0\n",
        "    alpha0 = -2*Om + Lm@R + np.transpose(np.conj(Lm@R))\n",
        "    beta0 = (R.T)@Lp - Lp@R\n",
        "\n",
        "    # Fill alpha\n",
        "    alpha[0:N, 0:N] = alpha0\n",
        "    alpha[0, N] = omega1Plus\n",
        "    alpha[1, N] = lambda1Z.conjugate()\n",
        "    alpha[N, 0] = omega1Minus\n",
        "    alpha[N, 1] = lambda1Z\n",
        "\n",
        "    # Fill beta\n",
        "    beta[0:N, 0:N] = beta0\n",
        "    beta[0, N] = omega1Minus\n",
        "    beta[1, N] = lambda1Z\n",
        "    beta[N, 0] = -omega1Minus\n",
        "    beta[N, 1] = -lambda1Z\n",
        "\n",
        "    # Fill H\n",
        "    H[0:N+1, 0:N+1] = alpha\n",
        "    H[0:N+1, N+1:2*(N+1)] = -beta.conj()\n",
        "    H[N+1:2*(N+1), 0:N+1] = beta\n",
        "    H[N+1:2*(N+1), N+1:2*(N+1)] = -alpha.conj()\n",
        "\n",
        "    #Return the completed hamiltonian \n",
        "    return H\n",
        "\n",
        "#Returns the matrix A from the quadratic formulation of the hamiltonian\n",
        "def covariance_matrix(N, omega_matrix, lambda_matrix, bloch_vector, temperature):\n",
        "    #Make the needed empty arrays \n",
        "    H=np.zeros((2*(N+1),2*(N+1)), dtype=complex)\n",
        "    alpha = np.zeros((N+1, N+1), dtype=complex)\n",
        "    beta = np.zeros((N+1, N+1), dtype=complex)\n",
        "    alpha0 = np.zeros((N, N), dtype=complex)\n",
        "    beta0 = np.zeros((N, N), dtype=complex)\n",
        "    #Extra needed matrices from the hamiltonian case\n",
        "    A = np.zeros((2*(N+1), 2*(N+1)), dtype=complex)\n",
        "    alphaPrime = np.zeros((N+1, N+1), dtype=complex)\n",
        "    betaPrime = np.zeros((N+1, N+1), dtype=complex)\n",
        "    covarianceMatrix=np.zeros((2*(N+1), 2*(N+1)), dtype=complex)\n",
        "\n",
        "    #Only 1st omega x and y terms appear in the hamiltonian whereas omega z appears for all qubits \n",
        "    lambdaPlus=lambda_matrix[0,:] + 1j*lambda_matrix[1,:]\n",
        "    lambdaMinus=lambda_matrix[0,:] - 1j*lambda_matrix[1,:]\n",
        "    omegaZ=omega_matrix[2,:]\n",
        "\n",
        "    #Coupling constants \n",
        "    omega1Plus=omega_matrix[0,0] + 1j*omega_matrix[1,0]\n",
        "    omega1Minus=omega_matrix[0,0] - 1j* omega_matrix[1,0]\n",
        "    lambda1Z=lambda_matrix[2,0]\n",
        "\n",
        "    # Pauli Matrices\n",
        "    id = np.identity(2)\n",
        "    sx = np.array([[0, 1], [1, 0]], dtype=complex)\n",
        "    sy = np.array([[0, -1j], [1j, 0]], dtype=complex)\n",
        "    sz = np.array([[1, 0], [0, -1]], dtype=complex)\n",
        "\n",
        "    #Construct diagonal matrices\n",
        "    Om = np.diag(omegaZ)\n",
        "    Lp = np.diag(lambdaPlus)\n",
        "    Lm = np.diag(lambdaMinus)\n",
        "\n",
        "    #Define inverse temperature\n",
        "    betaTemperature=1/temperature\n",
        "\n",
        "    #Bloch components \n",
        "    nPlus=bloch_vector[0]+1j*bloch_vector[1]\n",
        "    nMinus=bloch_vector[0] - 1j*bloch_vector[1]\n",
        "    nz=bloch_vector[2]\n",
        "\n",
        "    #Bloch modulus\n",
        "    n=np.sqrt(bloch_vector[0]**2 + bloch_vector[1]**2 + bloch_vector[2]**2)\n",
        "\n",
        "    #K factor for pure/mixed states\n",
        "    K = 0\n",
        "    if round(LA.norm(n), 15) != 1:\n",
        "        K = np.arctanh(n)/n\n",
        "    else:\n",
        "        #Must manually set the covariance matrix and return it to terminate the function\n",
        "        covarianceMatrix[0,0] = -nz\n",
        "        covarianceMatrix[N+1,N+1] = nz\n",
        "        covarianceMatrix[0,N] = covarianceMatrix[N,N+1] = 0.5*nPlus\n",
        "        covarianceMatrix[0,2*N+1] = covarianceMatrix[2*N+1,N+1] = -0.5*nPlus\n",
        "        covarianceMatrix[N,0] = covarianceMatrix[N+1,N] = 0.5*nMinus\n",
        "        covarianceMatrix[2*N+1,0] = covarianceMatrix[N+1,2*N+1] = -0.5*nMinus\n",
        "        #Function will terminate here if pure state\n",
        "        return covarianceMatrix \n",
        "\n",
        "\n",
        "    # Define R which is used to easily move elements to the subdiagonal within a matrix\n",
        "    R = np.zeros((N, N))\n",
        "    for i in range(N-1):\n",
        "        R[i][i+1] = 1\n",
        "\n",
        "    # Make alpha0 and beta0\n",
        "    alpha0 = -2*Om + Lm@R + np.transpose(np.conj(Lm@R))\n",
        "    beta0 = (R.T)@Lp - Lp@R\n",
        "\n",
        "    # Fill alpha\n",
        "    alpha[0:N, 0:N] = alpha0\n",
        "    alpha[0, N] = omega1Plus\n",
        "    alpha[1, N] = lambda1Z.conjugate()\n",
        "    alpha[N, 0] = omega1Minus\n",
        "    alpha[N, 1] = lambda1Z\n",
        "\n",
        "    # Fill beta\n",
        "    beta[0:N, 0:N] = beta0\n",
        "    beta[0, N] = omega1Minus\n",
        "    beta[1, N] = lambda1Z\n",
        "    beta[N, 0] = -omega1Minus\n",
        "    beta[N, 1] = -lambda1Z\n",
        "\n",
        "    # Make alphaPrime and betaPrime to make A\n",
        "    alphaPrime = betaTemperature*alpha # first copy alpha, multiplied by betaTemperature, and then change entries\n",
        "    \n",
        "    alphaPrime[0][0] = 2*K*nz         # Deals with pure states, since if the state is pure, it sets K = 0, \n",
        "    alphaPrime[0][1] = 0              # so we don't need any if statements\n",
        "    alphaPrime[0][N] = -K*nPlus\n",
        "    alphaPrime[1][0] = 0\n",
        "    alphaPrime[1][N] = 0\n",
        "    alphaPrime[N][0] = -K*nMinus\n",
        "    alphaPrime[N][1] = 0\n",
        "\n",
        "    betaPrime = betaTemperature*beta # first copy beta, multiplied by betaTemperature, and then change entries\n",
        "    \n",
        "    betaPrime[0][N] = -K*nMinus\n",
        "    betaPrime[0][1] = 0\n",
        "    betaPrime[1][0] = 0\n",
        "    betaPrime[1][N] = 0\n",
        "    betaPrime[N][0] = K*nMinus\n",
        "    betaPrime[N][1] = 0\n",
        "\n",
        "    # Fill A\n",
        "    A[0:N+1, 0:N+1] = alphaPrime\n",
        "    A[0:N+1, N+1:2*(N+1)] = -betaPrime.conj()\n",
        "    A[N+1:2*(N+1), 0:N+1] = betaPrime\n",
        "    A[N+1:2*(N+1), N+1:2*(N+1)] = -alphaPrime.conj()\n",
        "\n",
        "    # Set covarianceMatrix\n",
        "    covarianceMatrix[0:2*N + 2, 0:2*N + 2] = -LA.tanhm((1/2)*A)\n",
        "\n",
        "    #Return the completed hamiltonian \n",
        "    return covarianceMatrix\n",
        "\n",
        "#Evolve the covariance matrix according to th SE and finite difference method\n",
        "def evolve_lambda(time_array, time_independent_H, initial_matrix):\n",
        "    #Need to define a tensor to hold each density matrix at time intervals \n",
        "    dt=time_array[1]-time_array[0]\n",
        "\n",
        "    #Need a tensor to hold the density matrices at each time interval\n",
        "    #Dimension 0 is how many matrices we have; the length of the time array\n",
        "    #Dimension 1 and 2 are the dimensions of the matrices themselves \n",
        "    #Important to declare the dtype as complex such that we don't cast complex values to real ones\n",
        "    dens_tensor=np.zeros((len(time_array), len(initial_matrix), len(initial_matrix)), dtype=complex)\n",
        "\n",
        "    #Set both the 0th and 1st elements to the intial density matrix\n",
        "    dens_tensor[0]=initial_matrix\n",
        "    dens_tensor[1]=initial_matrix\n",
        "\n",
        "    #Now iterate over the other elements of the density tensor\n",
        "    for ii in range(1, len(time_array)-1):\n",
        "        #Define the commutator for this iteration\n",
        "        commutator=time_independent_H@dens_tensor[ii] - dens_tensor[ii]@time_independent_H\n",
        "\n",
        "        #Now apply the finite difference algorithm\n",
        "        dens_tensor[ii+1]=dens_tensor[ii-1] - 2j*commutator*dt\n",
        "    #Now return the density tensor\n",
        "    return dens_tensor\n",
        "\n",
        "#Give the sigma z expectation value for the system spin\n",
        "def expt_sigmaZ1(covariance_matrix):\n",
        "    #Dimension of the covariance matrix has to be 2(N+1)\n",
        "    #Infer the number of qubits from this \n",
        "    dim=int((len(covariance_matrix)/2)-1)\n",
        "    return covariance_matrix[dim+2, dim+2]"
      ],
      "execution_count": null,
      "outputs": []
    },
    {
      "cell_type": "markdown",
      "metadata": {
        "id": "LCmhspNWNXJR",
        "colab_type": "text"
      },
      "source": [
        "Use here that $Tr(\\rho^2)=\\frac{1}{2} + \\frac{1}{2}\\vec{n}\\cdot\\vec{n}$"
      ]
    },
    {
      "cell_type": "code",
      "metadata": {
        "id": "78aAH3lWgkpy",
        "colab_type": "code",
        "colab": {}
      },
      "source": [
        "'''New functions for gradient descent'''\n",
        "#Use the trace of rho squared  \n",
        "def tracesq(covariance_matrix):\n",
        "    #Find the trace given the covariance matrix only\n",
        "    #Specify the Bloch components \n",
        "    nx=sigma_x_from_covariance(covariance_matrix)\n",
        "    ny=sigma_y_from_covariance(covariance_matrix)\n",
        "    nz=sigma_z_from_covariance(covariance_matrix)\n",
        "\n",
        "    #Initialise the trace\n",
        "    trrho2=0.5 + 0.5*(nx**2 + ny**2 + nz**2)\n",
        "    return trrho2\n",
        "\n",
        "#Returns the expectation value of sigma x for finding bloch_x\n",
        "def sigma_x_from_covariance(covariance_matrix):\n",
        "    #Total dimension of the covariance matrix is 2(N+1)\n",
        "    #Find out what N is for easy to read indexing when comparing to hand notes\n",
        "    N=int((len(covariance_matrix)/2)-1)\n",
        "\n",
        "    #Remember since python indexing starts at 0 all matrix indices will \n",
        "    #appear 1 smaller than in hand notes\n",
        "    sig_x=0.5*(\n",
        "        covariance_matrix[N,N+1]-covariance_matrix[(2*(N+1))-1, N+1]\n",
        "    ) + 0.5*(\n",
        "        covariance_matrix[N+1, N]+covariance_matrix[N, 0]\n",
        "    )\n",
        "    return sig_x\n",
        "\n",
        "#Returns the expectation value of sigma y for finding bloch_y \n",
        "def sigma_y_from_covariance(covariance_matrix):\n",
        "    #Same as for the x case \n",
        "    N=int((len(covariance_matrix)/2)-1)\n",
        "    sig_y=0.5j*(\n",
        "        covariance_matrix[N+1, N]+covariance_matrix[N, 0]+covariance_matrix[(2*(N+1))-1,N+1]-covariance_matrix[N,N+1]\n",
        "    )\n",
        "    return sig_y\n",
        "\n",
        "#Returns the expectation value of sigma z for finding bloch_z\n",
        "def sigma_z_from_covariance(covariance_matrix):\n",
        "    return -covariance_matrix[0,0]"
      ],
      "execution_count": null,
      "outputs": []
    },
    {
      "cell_type": "code",
      "metadata": {
        "id": "WJpMMYE9HjBf",
        "colab_type": "code",
        "colab": {}
      },
      "source": [
        "#Testing to ensure this works on at least a basic level\n",
        "#Random covaraiance matrix \n",
        "test_covariance=np.random.uniform(0,1, size=(10,10))\n",
        "test_rho2=tracesq(test_covariance)\n",
        "\n",
        "#Do some more rigorous testing now with a larger system and a time evolving covariance matrix\n",
        "N=50\n",
        "mag_fields=np.random.uniform(0,1, size=(3,N))\n",
        "# coupling=np.random.uniform(0,1, size=(3, N))\n",
        "coupling=np.ones(shape=(3,N))\n",
        "initial_bloch=np.array([0,1,0]) #Pure state\n",
        "temperature=0.1\n",
        "dt=0.01\n",
        "times=np.arange(0, 100+dt, dt)\n",
        "\n",
        "#Call functions\n",
        "test_hamiltonian=total_hamiltonian(N, mag_fields, coupling) \n",
        "test_covariance=covariance_matrix(N, mag_fields, coupling, initial_bloch, temperature)\n",
        "covariance_tensor=evolve_lambda(times, test_hamiltonian, test_covariance)\n",
        "\n",
        "#Hold the trace2 values \n",
        "trace2=np.zeros(len(times), dtype=complex)\n",
        "\n",
        "#Loop to find all the trace2 values \n",
        "for ii in range(len(times)):\n",
        "    trace2[ii]=tracesq(covariance_tensor[ii])\n",
        "\n",
        "#Plot the trace squared as a function of time \n",
        "plt.figure(figsize=(15,10))\n",
        "plt.plot(times, trace2)\n",
        "plt.xlabel('Times')\n",
        "plt.ylabel(r'$Tr(\\rho^2)$')\n",
        "plt.grid(lw=0.2)"
      ],
      "execution_count": null,
      "outputs": []
    },
    {
      "cell_type": "markdown",
      "metadata": {
        "id": "aC6Bm_2kNV5L",
        "colab_type": "text"
      },
      "source": [
        "$Tr(\\rho^2)$ begins at $1$ for a pure state and quickly decays close to $0.5$ for a maximally mixed state. Seems to behave exactly as expected. Progress on to Machine Learning components. "
      ]
    },
    {
      "cell_type": "markdown",
      "metadata": {
        "id": "LNacFCltzjVA",
        "colab_type": "text"
      },
      "source": [
        "## Error function and weighted mean"
      ]
    },
    {
      "cell_type": "markdown",
      "metadata": {
        "id": "V8DNwZyLNvmT",
        "colab_type": "text"
      },
      "source": [
        "How best to interpret the error function? Could use $Tr(\\rho^2)$ simply at the end of the time step, but want to maintain as much coherence as possible over the entire time period. Taking the average over all instances does not seem like a good choice either. Think of a better statistical way of encoding how coherent the state is over the whole time frame. Maybe weigh it by how far along in time it is? So high coherence at a later time is worth more than high coherence at an earlier time. "
      ]
    },
    {
      "cell_type": "markdown",
      "metadata": {
        "id": "dXmTkG0wvb65",
        "colab_type": "text"
      },
      "source": [
        "Ensure to choose an initial state $\\rho(0)$ such that the system is pure at time 0."
      ]
    },
    {
      "cell_type": "markdown",
      "metadata": {
        "id": "rlIuvWO2GPqV",
        "colab_type": "text"
      },
      "source": [
        "Problem seems like it would lend itself better to reinforcement learning. Having a reward clause that rewards the algorithm for the longer and closer it stays to $Tr(\\rho^2)$ would be ideal, but likely to complicated to code in the time frame we have."
      ]
    },
    {
      "cell_type": "code",
      "metadata": {
        "id": "oBVfn2hWNcAp",
        "colab_type": "code",
        "colab": {}
      },
      "source": [
        "#Function to return a weighted error based on the coherence at a time t \n",
        "#Don't need to include time array but weigh each element of covariance tensor\n",
        "#Based on where it occurs.\n",
        "def timeweighted_tr2_error(covariance_tensor):\n",
        "    weights=np.linspace(1,2,len(covariance_tensor))\n",
        "    #Initialise array to hold the square of the traces \n",
        "    trace2=np.zeros(len(covariance_tensor))\n",
        "    #Loop to find the trace squared of each entry \n",
        "    for ii in range(len(covariance_tensor)):\n",
        "        trace2[ii]=tracesq(covariance_tensor[ii])\n",
        "    #Find the weighted mean\n",
        "    weight_mean=np.dot(trace2,weights)/np.sum(weights)\n",
        "    return weight_mean\n",
        "\n",
        "#Same function but given a trace array \n",
        "def weighted_trace_array(trace_array):\n",
        "    weights=np.linspace(1,2,len(trace_array))\n",
        "    weight_mean=np.dot(trace_array, weights)/np.sum(weights)\n",
        "    return weight_mean"
      ],
      "execution_count": null,
      "outputs": []
    },
    {
      "cell_type": "markdown",
      "metadata": {
        "id": "1yxQpBgc_LuM",
        "colab_type": "text"
      },
      "source": [
        "# Gradient Ascent"
      ]
    },
    {
      "cell_type": "markdown",
      "metadata": {
        "id": "1B9C31dqAU7O",
        "colab_type": "text"
      },
      "source": [
        "What should be provided to the algorithm as features to optimise over? Definitely want to give it the magnetic fields $\\vec{\\omega}$, but should the coupling constants $\\vec{\\lambda}$ also be included? Or should they be set and the variation for a given coupling configuration observed?"
      ]
    },
    {
      "cell_type": "markdown",
      "metadata": {
        "id": "k9C4h1tuBANe",
        "colab_type": "text"
      },
      "source": [
        "Set all coupling constants to $1$ for now to allow information to freely travel along the chain. After speaking with Shane decide if having coupling constants as features for the GD would be worthwhile. "
      ]
    },
    {
      "cell_type": "code",
      "metadata": {
        "id": "lp3X_qjz_O4B",
        "colab_type": "code",
        "colab": {}
      },
      "source": [
        "#Gradient ascent algorithm to optimise the coherence of the state \n",
        "def learnMagneticField(w_matrix, fixed_coupling, derivative_spacing, bloch_initial, temperature, time_array, learning_rate):\n",
        "    #Given a current magnetic field matrix return a new one \n",
        "    #that optimises the coherence of the state better \n",
        "\n",
        "    #Number of qubits \n",
        "    N=len(w_matrix[0,:])\n",
        "\n",
        "    #Placeholder for the magnetic field to be updated \n",
        "    magField_new=w_matrix.copy()\n",
        "\n",
        "    #Apply finite differences by shifting each element of the w_matrix\n",
        "    #Change to SGD\n",
        "    Iterations=int(0.1*3*len(w_matrix)) #10% batch size\n",
        "    for ii in range(Iterations):\n",
        "        w_plus=w_matrix.copy()\n",
        "        w_minus=w_matrix.copy()\n",
        "        row=np.random.randint(low=0, high=3)\n",
        "        column=np.random.randint(low=0, high=int(len(w_matrix)))\n",
        "        w_plus[row, column]+=derivative_spacing\n",
        "        w_minus[row, column]-=derivative_spacing\n",
        "\n",
        "        #Generate hamiltonian placeholders\n",
        "        hamiltonian_plus=total_hamiltonian(N, w_plus, fixed_coupling)\n",
        "        hamiltonian_minus=total_hamiltonian(N, w_minus, fixed_coupling)\n",
        "\n",
        "        #Generate covariance placeholders \n",
        "        covariance_plus_matrix=covariance_matrix(N, w_plus, fixed_coupling, bloch_initial, temperature)\n",
        "        covariance_minus_matrix=covariance_matrix(N, w_minus, fixed_coupling, bloch_initial, temperature)\n",
        "\n",
        "        #Evolve both covariance placeholders into a tensor\n",
        "        covariance_plus_tensor=evolve_lambda(time_array, hamiltonian_plus, covariance_plus_matrix)\n",
        "        covariance_minus_tensor=evolve_lambda(time_array, hamiltonian_minus, covariance_minus_matrix)\n",
        "\n",
        "        #Find rho^2 for each tensor\n",
        "        rho2_plus=timeweighted_tr2_error(covariance_plus_tensor)\n",
        "        rho2_minus=timeweighted_tr2_error(covariance_minus_tensor)\n",
        "\n",
        "        #Find the derivative of rho^2 wrt the current magnetic field parameter\n",
        "        #using finite differences \n",
        "        d_rho2=(rho2_plus/(2*derivative_spacing))-(rho2_minus/(2*derivative_spacing))\n",
        "        step_size=d_rho2*learning_rate\n",
        "\n",
        "        #Generate the new magnetic fields \n",
        "        magField_new[row,column]+=step_size\n",
        "   \n",
        "    return magField_new"
      ],
      "execution_count": null,
      "outputs": []
    },
    {
      "cell_type": "code",
      "metadata": {
        "id": "rK4Ya2jhTNHg",
        "colab_type": "code",
        "colab": {}
      },
      "source": [
        "#Testing \n",
        "#Dimension \n",
        "N=100\n",
        "#Generate an initial magentic profile \n",
        "w_initial=np.random.uniform(0,1,size=(3,N))\n",
        "coupling=np.ones(shape=(3,N))\n",
        "temperature=0.1\n",
        "dt=0.01\n",
        "times=np.arange(0,10+dt,dt)\n",
        "derivative_spacing=0.1\n",
        "learning_rate=0.5\n",
        "#Initial pure state\n",
        "bloch=np.array([1,0,0])\n",
        "\n",
        "#Generate new magentic profile \n",
        "w_new=learnMagneticField(w_initial, coupling, derivative_spacing, bloch, temperature, times, learning_rate)\n",
        "\n",
        "#Find covariance matrix for both \n",
        "covariance_tensor_old=evolve_lambda(times, \n",
        "                                    total_hamiltonian(N, w_initial, coupling), \n",
        "                                    covariance_matrix(N, w_initial, coupling, bloch, temperature))\n",
        "covariance_tensor_new=evolve_lambda(times, \n",
        "                                    total_hamiltonian(N, w_new, coupling),\n",
        "                                    covariance_matrix(N, w_new, coupling, bloch, temperature))\n",
        "\n",
        "#Find trace(rho2) for each \n",
        "old_rho2=np.zeros(len(times))\n",
        "new_rho2=np.zeros(len(times))\n",
        "for ii in range(len(times)):\n",
        "    old_rho2[ii]=tracesq(covariance_tensor_old[ii])\n",
        "    new_rho2[ii]=tracesq(covariance_tensor_new[ii])"
      ],
      "execution_count": null,
      "outputs": []
    },
    {
      "cell_type": "code",
      "metadata": {
        "id": "n5N-qJ4FWj5L",
        "colab_type": "code",
        "colab": {}
      },
      "source": [
        "#Plotting \n",
        "plt.figure(figsize=(15,10))\n",
        "plt.plot(times, old_rho2, label='Old State')\n",
        "plt.plot(times, new_rho2, label='New State')\n",
        "plt.ylabel(r'$Tr(\\rho^2)$')\n",
        "plt.xlabel('Times')\n",
        "plt.legend()\n",
        "plt.grid(lw=0.2)"
      ],
      "execution_count": null,
      "outputs": []
    },
    {
      "cell_type": "markdown",
      "metadata": {
        "id": "gwJJ1yhaZTCT",
        "colab_type": "text"
      },
      "source": [
        "Why is the old matrix going insane? Suggests something wrong with earlier stuff before even considering the machine learning"
      ]
    },
    {
      "cell_type": "markdown",
      "metadata": {
        "id": "OctQxWXpvBFy",
        "colab_type": "text"
      },
      "source": [
        "Changing to a smaller dt seems to fix this issue. Go back and change to SGD such that the computation time is reduced."
      ]
    },
    {
      "cell_type": "code",
      "metadata": {
        "id": "rYqD6lncwqCN",
        "colab_type": "code",
        "colab": {}
      },
      "source": [
        "#Function now to improve the coherence from the current configuration\n",
        "def improve_coherence(dimension, initial_w, temperature, learning_rate, total_iterations):\n",
        "    #Fixed parameters\n",
        "    coupling=np.ones(shape=(3,N))\n",
        "    dt=0.01\n",
        "    times=np.arange(0,10+dt,dt)\n",
        "    derivative_spacing=0.1\n",
        "    bloch=np.array([1,0,0]) #Pure\n",
        "\n",
        "    #Tensor to hold the changes in the magnetic field\n",
        "    magneticFields_tensor=np.zeros(shape=(total_iterations, len(initial_w[:,0]), len(initial_w[0,:])))\n",
        "    #Initialise the first magnetic field matrix \n",
        "    magneticFields_tensor[0]=initial_w\n",
        "\n",
        "    #Matrix to hold the trace^2 values throughout \n",
        "    trace_matrix=np.zeros(shape=(total_iterations, len(times)))\n",
        "    #Find initial trace^2\n",
        "    covariance_tensor_old=evolve_lambda(times, \n",
        "                                    total_hamiltonian(dimension, w_initial, coupling), \n",
        "                                    covariance_matrix(dimension, w_initial, coupling, bloch, temperature))\n",
        "    old_rho2=np.zeros(len(times))\n",
        "    for ii in range(len(times)):\n",
        "        old_rho2[ii]=tracesq(covariance_tensor_old[ii])\n",
        "    trace_matrix[0]=old_rho2\n",
        "\n",
        "    #Track iterations used\n",
        "    its=0\n",
        "\n",
        "    #Perform learning loop\n",
        "    for ii in tqdm(range(1,total_iterations)):\n",
        "        its+=1\n",
        "        magneticFields_tensor[ii]=learnMagneticField(magneticFields_tensor[ii-1],\n",
        "                                                     coupling,\n",
        "                                                     derivative_spacing,\n",
        "                                                     bloch,\n",
        "                                                     temperature,\n",
        "                                                     times,\n",
        "                                                     learning_rate)\n",
        "        #Find current trace \n",
        "        covariance_tensor_placeholder=evolve_lambda(times, \n",
        "                                        total_hamiltonian(dimension, magneticFields_tensor[ii], coupling), \n",
        "                                        covariance_matrix(dimension, magneticFields_tensor[ii], coupling, bloch, temperature))\n",
        "        tracePlaceholder=np.zeros(len(times))\n",
        "        for jj in range(len(times)):\n",
        "            tracePlaceholder[jj]=tracesq(covariance_tensor_placeholder[jj])\n",
        "        trace_matrix[ii]=tracePlaceholder\n",
        "\n",
        "        #Include a clause to break if improvements not being made\n",
        "        if abs(weighted_trace_array(trace_matrix[ii])-weighted_trace_array(trace_matrix[ii-1]))<int(1e-3):\n",
        "            print('Terminated after', its, 'iterations')\n",
        "            break\n",
        "\n",
        "    return magneticFields_tensor, trace_matrix"
      ],
      "execution_count": null,
      "outputs": []
    },
    {
      "cell_type": "markdown",
      "metadata": {
        "id": "bIJke5iZbDfV",
        "colab_type": "text"
      },
      "source": [
        "Now to generate results "
      ]
    },
    {
      "cell_type": "code",
      "metadata": {
        "id": "13DJR0D2bNeK",
        "colab_type": "code",
        "colab": {
          "base_uri": "https://localhost:8080/",
          "height": 341
        },
        "outputId": "155d80b7-1cb0-4c8a-a75e-9937d77781e7"
      },
      "source": [
        "#Constants\n",
        "N=100\n",
        "w_initial=np.random.uniform(0,1,size=(3,N))\n",
        "temperature=0.1\n",
        "learning_rate=1\n",
        "iterations=int(500)\n",
        "\n",
        "#Perform learning \n",
        "magnetic_profile, trace_values = improve_coherence(N, w_initial, temperature, learning_rate, iterations)"
      ],
      "execution_count": null,
      "outputs": [
        {
          "output_type": "error",
          "ename": "KeyboardInterrupt",
          "evalue": "ignored",
          "traceback": [
            "\u001b[0;31m---------------------------------------------------------------------------\u001b[0m",
            "\u001b[0;31mKeyboardInterrupt\u001b[0m                         Traceback (most recent call last)",
            "\u001b[0;32m<ipython-input-11-5894cb94cfe0>\u001b[0m in \u001b[0;36m<module>\u001b[0;34m()\u001b[0m\n\u001b[1;32m      7\u001b[0m \u001b[0;34m\u001b[0m\u001b[0m\n\u001b[1;32m      8\u001b[0m \u001b[0;31m#Perform learning\u001b[0m\u001b[0;34m\u001b[0m\u001b[0;34m\u001b[0m\u001b[0;34m\u001b[0m\u001b[0m\n\u001b[0;32m----> 9\u001b[0;31m \u001b[0mmagnetic_profile\u001b[0m\u001b[0;34m,\u001b[0m \u001b[0mtrace_values\u001b[0m \u001b[0;34m=\u001b[0m \u001b[0mimprove_coherence\u001b[0m\u001b[0;34m(\u001b[0m\u001b[0mN\u001b[0m\u001b[0;34m,\u001b[0m \u001b[0mw_initial\u001b[0m\u001b[0;34m,\u001b[0m \u001b[0mtemperature\u001b[0m\u001b[0;34m,\u001b[0m \u001b[0mlearning_rate\u001b[0m\u001b[0;34m,\u001b[0m \u001b[0miterations\u001b[0m\u001b[0;34m)\u001b[0m\u001b[0;34m\u001b[0m\u001b[0;34m\u001b[0m\u001b[0m\n\u001b[0m",
            "\u001b[0;32m<ipython-input-8-cafa1a5835b9>\u001b[0m in \u001b[0;36mimprove_coherence\u001b[0;34m(dimension, initial_w, temperature, learning_rate, total_iterations)\u001b[0m\n\u001b[1;32m     18\u001b[0m     covariance_tensor_old=evolve_lambda(times, \n\u001b[1;32m     19\u001b[0m                                     \u001b[0mtotal_hamiltonian\u001b[0m\u001b[0;34m(\u001b[0m\u001b[0mdimension\u001b[0m\u001b[0;34m,\u001b[0m \u001b[0mw_initial\u001b[0m\u001b[0;34m,\u001b[0m \u001b[0mcoupling\u001b[0m\u001b[0;34m)\u001b[0m\u001b[0;34m,\u001b[0m\u001b[0;34m\u001b[0m\u001b[0;34m\u001b[0m\u001b[0m\n\u001b[0;32m---> 20\u001b[0;31m                                     covariance_matrix(dimension, w_initial, coupling, bloch, temperature))\n\u001b[0m\u001b[1;32m     21\u001b[0m     \u001b[0mold_rho2\u001b[0m\u001b[0;34m=\u001b[0m\u001b[0mnp\u001b[0m\u001b[0;34m.\u001b[0m\u001b[0mzeros\u001b[0m\u001b[0;34m(\u001b[0m\u001b[0mlen\u001b[0m\u001b[0;34m(\u001b[0m\u001b[0mtimes\u001b[0m\u001b[0;34m)\u001b[0m\u001b[0;34m)\u001b[0m\u001b[0;34m\u001b[0m\u001b[0;34m\u001b[0m\u001b[0m\n\u001b[1;32m     22\u001b[0m     \u001b[0;32mfor\u001b[0m \u001b[0mii\u001b[0m \u001b[0;32min\u001b[0m \u001b[0mrange\u001b[0m\u001b[0;34m(\u001b[0m\u001b[0mlen\u001b[0m\u001b[0;34m(\u001b[0m\u001b[0mtimes\u001b[0m\u001b[0;34m)\u001b[0m\u001b[0;34m)\u001b[0m\u001b[0;34m:\u001b[0m\u001b[0;34m\u001b[0m\u001b[0;34m\u001b[0m\u001b[0m\n",
            "\u001b[0;32m<ipython-input-2-9d87dbe50407>\u001b[0m in \u001b[0;36mevolve_lambda\u001b[0;34m(time_array, time_independent_H, initial_matrix)\u001b[0m\n\u001b[1;32m    200\u001b[0m \u001b[0;34m\u001b[0m\u001b[0m\n\u001b[1;32m    201\u001b[0m         \u001b[0;31m#Now apply the finite difference algorithm\u001b[0m\u001b[0;34m\u001b[0m\u001b[0;34m\u001b[0m\u001b[0;34m\u001b[0m\u001b[0m\n\u001b[0;32m--> 202\u001b[0;31m         \u001b[0mdens_tensor\u001b[0m\u001b[0;34m[\u001b[0m\u001b[0mii\u001b[0m\u001b[0;34m+\u001b[0m\u001b[0;36m1\u001b[0m\u001b[0;34m]\u001b[0m\u001b[0;34m=\u001b[0m\u001b[0mdens_tensor\u001b[0m\u001b[0;34m[\u001b[0m\u001b[0mii\u001b[0m\u001b[0;34m-\u001b[0m\u001b[0;36m1\u001b[0m\u001b[0;34m]\u001b[0m \u001b[0;34m-\u001b[0m \u001b[0;36m2j\u001b[0m\u001b[0;34m*\u001b[0m\u001b[0mcommutator\u001b[0m\u001b[0;34m*\u001b[0m\u001b[0mdt\u001b[0m\u001b[0;34m\u001b[0m\u001b[0;34m\u001b[0m\u001b[0m\n\u001b[0m\u001b[1;32m    203\u001b[0m     \u001b[0;31m#Now return the density tensor\u001b[0m\u001b[0;34m\u001b[0m\u001b[0;34m\u001b[0m\u001b[0;34m\u001b[0m\u001b[0m\n\u001b[1;32m    204\u001b[0m     \u001b[0;32mreturn\u001b[0m \u001b[0mdens_tensor\u001b[0m\u001b[0;34m\u001b[0m\u001b[0;34m\u001b[0m\u001b[0m\n",
            "\u001b[0;31mKeyboardInterrupt\u001b[0m: "
          ]
        }
      ]
    },
    {
      "cell_type": "code",
      "metadata": {
        "id": "kTAZ8eljfSJx",
        "colab_type": "code",
        "colab": {}
      },
      "source": [
        "dt=0.01\n",
        "times=np.arange(0,10+dt,dt)\n",
        "plt.figure(figsize=(15,12))\n",
        "plt.plot(times, trace_values[0], label='Iteration 1')\n",
        "# plt.plot(times, trace_values[49], label='Iteration 50')\n",
        "# plt.plot(times, trace_values[199], label='Iteration 200')\n",
        "# plt.plot(times, trace_values[499], label='Iteration 500')\n",
        "# plt.plot(times, trace_values[999], label='1000')\n",
        "plt.legend()"
      ],
      "execution_count": null,
      "outputs": []
    },
    {
      "cell_type": "markdown",
      "metadata": {
        "id": "xc3Zffv_2quj",
        "colab_type": "text"
      },
      "source": [
        "Also consider the magnitude of the magnetic field at each qubit site "
      ]
    },
    {
      "cell_type": "markdown",
      "metadata": {
        "id": "263Axl2yP1Vd",
        "colab_type": "text"
      },
      "source": [
        "Repeat but for a higher temperature"
      ]
    },
    {
      "cell_type": "code",
      "metadata": {
        "id": "iYePmrBnP3j8",
        "colab_type": "code",
        "colab": {
          "base_uri": "https://localhost:8080/",
          "height": 100,
          "referenced_widgets": [
            "2db7d356a7d1451abb87206104c42b12",
            "708dc274ac7f40ca93d8dd6dfe4ee022",
            "bec4d6c248a648bebec84743d848bf94",
            "0f99e712876e4942bab75f658441ffec",
            "0720939846f64f96aa9d06cbef58e977",
            "2f366fc4ef614ee4b8edeba7db4b6a44",
            "81cbe32f3fb44e4fba739536ad1eb9bb",
            "64a830d50d95478f84a6be36edd3188a"
          ]
        },
        "outputId": "01627e2a-ffc8-47d8-ea43-8a1b2a04e39a"
      },
      "source": [
        "#Constants\n",
        "N=100\n",
        "w_initial=np.random.uniform(0,1,size=(3,N))\n",
        "temperature1=10\n",
        "learning_rate=1\n",
        "iterations=int(50)\n",
        "\n",
        "#Perform learning \n",
        "magnetic_profile1, trace_values1 = improve_coherence(N, w_initial, temperature1, learning_rate, iterations)"
      ],
      "execution_count": null,
      "outputs": [
        {
          "output_type": "stream",
          "text": [
            "/usr/local/lib/python3.6/dist-packages/ipykernel_launcher.py:23: ComplexWarning: Casting complex values to real discards the imaginary part\n"
          ],
          "name": "stderr"
        },
        {
          "output_type": "display_data",
          "data": {
            "application/vnd.jupyter.widget-view+json": {
              "model_id": "2db7d356a7d1451abb87206104c42b12",
              "version_minor": 0,
              "version_major": 2
            },
            "text/plain": [
              "HBox(children=(FloatProgress(value=0.0, max=49.0), HTML(value='')))"
            ]
          },
          "metadata": {
            "tags": []
          }
        },
        {
          "output_type": "stream",
          "text": [
            "/usr/local/lib/python3.6/dist-packages/ipykernel_launcher.py:45: ComplexWarning: Casting complex values to real discards the imaginary part\n"
          ],
          "name": "stderr"
        },
        {
          "output_type": "stream",
          "text": [
            "\n"
          ],
          "name": "stdout"
        }
      ]
    },
    {
      "cell_type": "code",
      "metadata": {
        "id": "5KuhzMHAP6Jx",
        "colab_type": "code",
        "colab": {
          "base_uri": "https://localhost:8080/",
          "height": 717
        },
        "outputId": "52f02f60-c256-41f3-db8a-a50598484fa8"
      },
      "source": [
        "dt=0.01\n",
        "times=np.arange(0,10+dt,dt)\n",
        "plt.figure(figsize=(15,12))\n",
        "plt.plot(times, trace_values1[0], label='1')\n",
        "plt.plot(times, trace_values1[49], label='50')\n",
        "# plt.plot(times, trace_values1[199], label='200')\n",
        "# plt.plot(times, trace_values1[499], label='500')\n",
        "# plt.plot(times, trace_values1[999], label='1000')\n",
        "plt.legend()"
      ],
      "execution_count": null,
      "outputs": [
        {
          "output_type": "execute_result",
          "data": {
            "text/plain": [
              "<matplotlib.legend.Legend at 0x7f684f631f60>"
            ]
          },
          "metadata": {
            "tags": []
          },
          "execution_count": 13
        },
        {
          "output_type": "display_data",
          "data": {
            "image/png": "[encoded data removed]",
            "text/plain": [
              "<Figure size 1080x864 with 1 Axes>"
            ]
          },
          "metadata": {
            "tags": [],
            "needs_background": "light"
          }
        }
      ]
    }
  ]
}